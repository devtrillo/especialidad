{
 "cells": [
  {
   "cell_type": "code",
   "execution_count": 4,
   "metadata": {},
   "outputs": [],
   "source": [
    "import numpy as np\n",
    "import pandas as pd\n",
    "import seaborn as sns\n",
    "import matplotlib.pyplot as plt\n",
    "from pandas.plotting import scatter_matrix\n",
    "from sklearn.metrics import mean_squared_error\n",
    "from sklearn.linear_model import LinearRegression\n",
    "\n",
    "%matplotlib inline\n",
    "data_points = [\n",
    "    (1, 7, 7),\n",
    "    (2, 2.87),\n",
    "    (3, 10.6),\n",
    "    (4, 11.5),\n",
    "    (6,15.5)\n",
    "]\n"
   ]
  },
  {
   "cell_type": "code",
   "execution_count": 5,
   "metadata": {},
   "outputs": [
    {
     "data": {
      "text/plain": [
       "<matplotlib.collections.PathCollection at 0x16a079b80>"
      ]
     },
     "execution_count": 5,
     "metadata": {},
     "output_type": "execute_result"
    },
    {
     "data": {
      "image/png": "[encoded data removed]",
      "text/plain": [
       "<Figure size 432x288 with 1 Axes>"
      ]
     },
     "metadata": {
      "needs_background": "light"
     },
     "output_type": "display_data"
    }
   ],
   "source": [
    "x = np.array([i[0] for i in data_points])\n",
    "y = np.array([i[1] for i in data_points])\n",
    "\n",
    "\n",
    "plt.scatter(x,y,label='data', color='blue')\n"
   ]
  },
  {
   "cell_type": "code",
   "execution_count": 12,
   "metadata": {},
   "outputs": [
    {
     "name": "stdout",
     "output_type": "stream",
     "text": [
      "w = [2.13756757], b = 2.6537837837837834\n"
     ]
    }
   ],
   "source": [
    "lineal_regression = LinearRegression() \n",
    "\n",
    "lineal_regression.fit(x.reshape(-1,1), y) \n",
    "\n",
    "print('w = ' + str(lineal_regression.coef_) + ', b = ' + str(lineal_regression.intercept_))\n"
   ]
  },
  {
   "cell_type": "code",
   "execution_count": 7,
   "metadata": {},
   "outputs": [
    {
     "name": "stdout",
     "output_type": "stream",
     "text": [
      "Error Cuadrático Medio (MSE) = 4.7585264864864865\n",
      "Raíz del Error Cuadrático Medio (RMSE) = 2.181404704883183\n"
     ]
    }
   ],
   "source": [
    "from sklearn.metrics import mean_squared_error\n",
    "\n",
    "training_prediction = lineal_regression.predict(x.reshape(-1,1))\n",
    "\n",
    "mse = mean_squared_error(y_true = y, y_pred = training_prediction)\n",
    "rmse = np.sqrt(mse)\n",
    "\n",
    "print('Error Cuadrático Medio (MSE) = ' + str(mse))\n",
    "print('Raíz del Error Cuadrático Medio (RMSE) = ' + str(rmse))"
   ]
  },
  {
   "cell_type": "code",
   "execution_count": 9,
   "metadata": {},
   "outputs": [
    {
     "name": "stdout",
     "output_type": "stream",
     "text": [
      "Coeficiente de Determinación R2 = 0.7397343458348491\n"
     ]
    },
    {
     "data": {
      "text/plain": [
       "[<matplotlib.lines.Line2D at 0x16a1995b0>]"
      ]
     },
     "execution_count": 9,
     "metadata": {},
     "output_type": "execute_result"
    },
    {
     "data": {
      "image/png": "[encoded data removed]",
      "text/plain": [
       "<Figure size 432x288 with 1 Axes>"
      ]
     },
     "metadata": {
      "needs_background": "light"
     },
     "output_type": "display_data"
    }
   ],
   "source": [
    "r2 = lineal_regression.score(x.reshape(-1,1), y)\n",
    "\n",
    "print('Coeficiente de Determinación R2 = ' + str(r2))\n",
    "\n",
    "plt.scatter(x,y)\n",
    "plt.plot(r2)\n"
   ]
  }
 ],
 "metadata": {
  "interpreter": {
   "hash": "de0d27ba8b21b521daa473a36a109b67174510c5e3045190e26f6f85b778bb9c"
  },
  "kernelspec": {
   "display_name": "Python 3.9.9 ('env': venv)",
   "language": "python",
   "name": "python3"
  },
  "language_info": {
   "codemirror_mode": {
    "name": "ipython",
    "version": 3
   },
   "file_extension": ".py",
   "mimetype": "text/x-python",
   "name": "python",
   "nbconvert_exporter": "python",
   "pygments_lexer": "ipython3",
   "version": "3.9.10"
  },
  "orig_nbformat": 4
 },
 "nbformat": 4,
 "nbformat_minor": 2
}
